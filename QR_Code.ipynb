{
 "cells": [
  {
   "cell_type": "code",
   "execution_count": 23,
   "metadata": {},
   "outputs": [
    {
     "name": "stderr",
     "output_type": "stream",
     "text": [
      "ibmqfactory.load_account:WARNING:2021-04-11 18:56:41,953: Credentials are already in use. The existing account in the session will be replaced.\n"
     ]
    }
   ],
   "source": [
    "import qiskit\n",
    "%matplotlib inline\n",
    "# Importing standard Qiskit libraries and configuring account\n",
    "from qiskit import QuantumCircuit, execute, Aer, IBMQ\n",
    "from qiskit.compiler import transpile, assemble\n",
    "from qiskit.tools.jupyter import *\n",
    "from qiskit.visualization import *\n",
    "# Loading your IBM Q account(s)\n",
    "# provider = IBMQ.load_account()\n",
    "\n",
    "IBMQ.load_account()\n",
    "provider = IBMQ.get_provider(hub='ibm-q', group='open', project='main')\n",
    "\n"
   ]
  },
  {
   "cell_type": "code",
   "execution_count": 24,
   "metadata": {},
   "outputs": [],
   "source": [
    "# initialization\n",
    "import matplotlib.pyplot as plt\n",
    "import numpy as np\n",
    "\n",
    "# importing Qiskit\n",
    "from qiskit import IBMQ, BasicAer\n",
    "# from qiskit.providers.ibmq import least_busy\n",
    "from qiskit.providers.ibmq import *\n",
    "from qiskit import QuantumCircuit, ClassicalRegister, QuantumRegister, execute\n",
    "\n",
    "# import basic plot tools\n",
    "from qiskit.visualization import plot_histogram"
   ]
  },
  {
   "cell_type": "code",
   "execution_count": 25,
   "metadata": {},
   "outputs": [],
   "source": [
    "n = 7 # number of qubits used to represent s"
   ]
  },
  {
   "cell_type": "code",
   "execution_count": 26,
   "metadata": {},
   "outputs": [],
   "source": [
    "def wordToBV(s) :\n",
    "    #convert text to binary\n",
    "    a_byte_array = bytearray(s, \"utf8\")\n",
    "    byte_list = []\n",
    "\n",
    "\n",
    "    for byte in a_byte_array:\n",
    "        binary_representation = bin(byte)\n",
    "        byte_list.append(binary_representation[9-n:])\n",
    "        #chop off the \"0b\" at the beginning. can also truncate the binary to fit on a device with N qubits\n",
    "        #binary has 2 extra digits for \"0b\", so it starts at 9 for our 7 bit operation. \n",
    "\n",
    "    print(byte_list)\n",
    "    \n",
    "    circuit_array = []\n",
    "    \n",
    "    length = len(byte_list) \n",
    "    \n",
    "    for i in range(length):\n",
    "    \n",
    "        s = byte_list[i]\n",
    "\n",
    "\n",
    "        #do all  this stuff for every letter\n",
    "\n",
    "        # We need a circuit with n qubits, plus one ancilla qubit\n",
    "        # Also need n classical bits to write the output to\n",
    "        bv_circuit = QuantumCircuit(n+1, n)\n",
    "\n",
    "        # put ancilla in state |->\n",
    "        bv_circuit.h(n)\n",
    "        bv_circuit.z(n)\n",
    "\n",
    "        # Apply Hadamard gates before querying the oracle\n",
    "        for i in range(n):\n",
    "            bv_circuit.h(i)\n",
    "\n",
    "        # Apply barrier \n",
    "        bv_circuit.barrier()\n",
    "\n",
    "        # Apply the inner-product oracle\n",
    "        s = s[::-1] # reverse s to fit qiskit's qubit ordering\n",
    "        for q in range(n):\n",
    "            if s[q] == '0':\n",
    "                bv_circuit.i(q)\n",
    "            else:\n",
    "                bv_circuit.cx(q, n)\n",
    "\n",
    "        # Apply barrier \n",
    "        bv_circuit.barrier()\n",
    "\n",
    "        #Apply Hadamard gates after querying the oracle\n",
    "        for i in range(n):\n",
    "            bv_circuit.h(i)\n",
    "\n",
    "        # Measurement\n",
    "        for i in range(n):\n",
    "            bv_circuit.measure(i, i)\n",
    "            \n",
    "        circuit_array.append(bv_circuit)\n",
    "\n",
    "    \n",
    "    return circuit_array"
   ]
  },
  {
   "cell_type": "code",
   "execution_count": 27,
   "metadata": {},
   "outputs": [
    {
     "name": "stdout",
     "output_type": "stream",
     "text": [
      "['1001101', '1100101', '1101100', '1100010', '1101111', '1110101', '1110010', '1101110', '1100101']\n"
     ]
    }
   ],
   "source": [
    "circuit_to_run = wordToBV('Melbourne')"
   ]
  },
  {
   "cell_type": "code",
   "execution_count": 28,
   "metadata": {},
   "outputs": [
    {
     "data": {
      "image/png": "[encoded data removed]",
      "text/plain": [
       "<Figure size 504x360 with 1 Axes>"
      ]
     },
     "execution_count": 28,
     "metadata": {},
     "output_type": "execute_result"
    }
   ],
   "source": [
    "#run the first letter on a simulator\n",
    "backend = BasicAer.get_backend('qasm_simulator')\n",
    "shots = 4096\n",
    "results = execute(circuit_to_run[0], backend=backend, shots=shots).result()\n",
    "answer = results.get_counts()\n",
    "\n",
    "plot_histogram(answer)"
   ]
  },
  {
   "cell_type": "code",
   "execution_count": null,
   "metadata": {},
   "outputs": [],
   "source": [
    "#run on real hardware. \n",
    "\n",
    "IBMQ.load_account()\n",
    "provider = IBMQ.get_provider('ibm-q', 'open', 'main')\n",
    "\n",
    "#choose any device 8 qubits or more\n",
    "# device = least_busy(provider.backends(filters=lambda x: x.configuration().n_qubits >= 8 and \n",
    "#                                   not x.configuration().simulator and x.status().operational==True))\n",
    "    \n",
    "# print(\"Running on current least busy device: \", device)\n",
    "\n",
    "# or, specifically choose a device. Paris performs the best out of any device so far\n",
    "device = provider.get_backend('ibmq_16_melbourne')\n",
    "print(\"hardcoded to run on \", device)\n",
    "\n",
    "\n",
    "# Run our circuit on the least busy backend. Monitor the execution of the job in the queue\n",
    "from qiskit.tools.monitor import job_monitor\n",
    "job = execute(circuit_to_run, backend=device, shots=1024, max_credits=10)\n",
    "job_monitor(job, interval = 2)\n",
    "\n",
    "# Get the results from the computation\n",
    "results = job.result()\n",
    "answer = results.get_counts(circuit_to_run)\n",
    "plot_histogram(answer)"
   ]
  },
  {
   "cell_type": "code",
   "execution_count": null,
   "metadata": {},
   "outputs": [],
   "source": []
  }
 ],
 "metadata": {
  "kernelspec": {
   "display_name": "Python 3",
   "language": "python",
   "name": "python3"
  },
  "language_info": {
   "codemirror_mode": {
    "name": "ipython",
    "version": 3
   },
   "file_extension": ".py",
   "mimetype": "text/x-python",
   "name": "python",
   "nbconvert_exporter": "python",
   "pygments_lexer": "ipython3",
   "version": "3.8.5"
  }
 },
 "nbformat": 4,
 "nbformat_minor": 4
}
