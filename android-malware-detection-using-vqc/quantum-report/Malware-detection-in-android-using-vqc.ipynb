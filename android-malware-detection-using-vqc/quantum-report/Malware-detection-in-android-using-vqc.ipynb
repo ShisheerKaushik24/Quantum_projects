{
 "cells": [
  {
   "cell_type": "markdown",
   "id": "6854cc35",
   "metadata": {},
   "source": [
    "# Android Malware Detection\n"
   ]
  },
  {
   "cell_type": "markdown",
   "id": "224f380a",
   "metadata": {},
   "source": [
    "**Machine Learning (ML)** systems are nowadays being extensively used as the core components of many systems, including malware detectors. Despite the impressive performances reported by such systems on benchmark datasets, the problem of detection in the wild is still far from being solved. In fact, many of these algorithms were not designed to cope with Adversarial Examples.\n",
    "\n",
    "In this tutorial, we show how to use SecML to build, explain, attack and evaluate the security of a malware detector for Android applications, based on a *linear Support Vector Machine (SVM)*, a common choice for this task given its performance and the interpretability of its decisions."
   ]
  },
  {
   "cell_type": "code",
   "execution_count": 1,
   "id": "862fc43f",
   "metadata": {},
   "outputs": [],
   "source": [
    "%%capture --no-stderr --no-display\n",
    "# NBVAL_IGNORE_OUTPUT\n",
    "\n",
    "try:\n",
    "  import secml\n",
    "except ImportError:\n",
    "  %pip install git+https://github.com/pralab/secml"
   ]
  },
  {
   "cell_type": "markdown",
   "id": "1b240bd1",
   "metadata": {},
   "source": [
    "We start by loading a toy dataset of Android applications, named `DrebinRed`, consisting of **12,000** benign and **550** malicious samples extracted from the Drebin dataset:\n",
    "\n",
    "[arp2014drebin] Arp, Daniel, et al. \"Drebin: Effective and explainable detection of android malware in your pocket.\" NDSS. Vol. 14. 2014.\n",
    "\n",
    "See https://www.sec.cs.tu-bs.de/~danarp/drebin/ to obtain the full version."
   ]
  },
  {
   "cell_type": "code",
   "execution_count": 2,
   "id": "e9d817e8",
   "metadata": {},
   "outputs": [],
   "source": [
    "# NBVAL_IGNORE_OUTPUT\n",
    "import re\n",
    "import secml\n",
    "from secml import settings\n",
    "from secml.utils import fm\n",
    "from secml.utils.download_utils import dl_file_gitlab\n",
    "\n",
    "repo_url = 'https://gitlab.com/secml/secml-zoo'\n",
    "file_name = 'drebin-reduced.tar.gz'\n",
    "file_path = 'datasets/DrebinRed/' + file_name\n",
    "output_dir = fm.join(settings.SECML_DS_DIR, 'drebin-red')\n",
    "md5_digest = 'ecf87ddedf614dd53b89285c29cf1caf'\n",
    "\n",
    "ds_path = fm.join(output_dir, file_name)\n",
    "\n",
    "# The following tries to get the correct dataset for the current library version\n",
    "if not fm.file_exist(ds_path):\n",
    "    try:\n",
    "        # Try downloading from the branch corresponding to current version\n",
    "        min_version = re.search(r'^\\d+.\\d+', secml.__version__).group(0)\n",
    "        dl_file_gitlab(repo_url, file_path, output_dir,\n",
    "                       branch='v' + min_version, md5_digest=md5_digest)\n",
    "\n",
    "    except Exception as e:  # Try looking into 'master' branch...\n",
    "        dl_file_gitlab(repo_url, file_path, output_dir, md5_digest=md5_digest)"
   ]
  },
  {
   "cell_type": "code",
   "execution_count": 3,
   "id": "01faa489",
   "metadata": {},
   "outputs": [
    {
     "name": "stdout",
     "output_type": "stream",
     "text": [
      "Num. samples:  12550\n",
      "Num. benign samples:  12000\n",
      "Num. malicious samples:  550\n",
      "Num. features:  1227080\n"
     ]
    }
   ],
   "source": [
    "from secml.utils import pickle_utils\n",
    "\n",
    "ds = pickle_utils.load(ds_path)\n",
    "\n",
    "print(\"Num. samples: \", ds.num_samples)\n",
    "\n",
    "n_neg = sum(ds.Y == 0)\n",
    "n_pos = sum(ds.Y == 1)\n",
    "\n",
    "print(\"Num. benign samples: \", n_neg)\n",
    "print(\"Num. malicious samples: \", n_pos)\n",
    "\n",
    "print(\"Num. features: \", ds.num_features)"
   ]
  },
  {
   "cell_type": "markdown",
   "id": "4b6f7296",
   "metadata": {},
   "source": [
    "# Training and testing the detector"
   ]
  },
  {
   "cell_type": "markdown",
   "id": "451d43bd",
   "metadata": {},
   "source": [
    "We train the Support Vector Machine classifier on half the dataset, while using the rest for testing. The performance on the task of recognizing benign and malicious applications will be reported by means of the Detection `Rate @ 2%` False Positive Rate, the `F1 score` and by plotting the **Receiver Operating Characteristic (ROC)** curve."
   ]
  },
  {
   "cell_type": "code",
   "execution_count": 4,
   "id": "3f3bbe9e",
   "metadata": {},
   "outputs": [],
   "source": [
    "import re\n",
    "import secml\n",
    "from secml import settings\n",
    "from secml.utils import fm\n",
    "from secml.utils.download_utils import dl_file_gitlab\n",
    "from secml.utils import pickle_utils\n",
    "from qiskit.circuit.library import ZZFeatureMap, PauliFeatureMap, TwoLocal, RealAmplitudes\n",
    "from qiskit_machine_learning.circuit.library import RawFeatureVector\n",
    "from qiskit.algorithms.optimizers import COBYLA,SPSA\n",
    "from qiskit_machine_learning.algorithms import VQC\n",
    "seed=10599\n",
    "from qiskit import BasicAer\n",
    "from qiskit import Aer\n",
    "from qiskit.utils import QuantumInstance\n",
    "from qiskit_machine_learning.neural_networks import CircuitQNN\n",
    "from qiskit_machine_learning.algorithms.classifiers import NeuralNetworkClassifier"
   ]
  },
  {
   "cell_type": "code",
   "execution_count": 5,
   "id": "38b38c28",
   "metadata": {},
   "outputs": [],
   "source": [
    "from secml.ml.features import CNormalizerMinMax\n",
    "from secml.ml.classifiers import CClassifier\n",
    "from secml.data.splitter import CTrainTestSplit\n",
    "from secml.ml.classifiers import CClassifierSVM\n",
    "from secml.ml.peval.metrics import CMetricAccuracy"
   ]
  },
  {
   "cell_type": "code",
   "execution_count": 6,
   "id": "89c03b55",
   "metadata": {},
   "outputs": [],
   "source": [
    "import time\n",
    "start_time = time.time()"
   ]
  },
  {
   "cell_type": "code",
   "execution_count": 7,
   "id": "145fa42a",
   "metadata": {},
   "outputs": [],
   "source": [
    "# create a new dataset object with only the first two features\n",
    "ds = ds[:, :600000]"
   ]
  },
  {
   "cell_type": "code",
   "execution_count": 8,
   "id": "5dfe6a9f",
   "metadata": {},
   "outputs": [],
   "source": [
    "# split the dataset into training and test sets\n",
    "tr, ts = CTrainTestSplit(train_size=6000, random_state=0).split(ds)"
   ]
  },
  {
   "cell_type": "code",
   "execution_count": 9,
   "id": "017b15cd",
   "metadata": {},
   "outputs": [],
   "source": [
    "from qiskit.circuit.library import ZZFeatureMap, TwoLocal\n",
    "from qiskit.opflow import Z, StateFn\n",
    "from qiskit import Aer\n",
    "from qiskit.utils import QuantumInstance\n",
    "from qiskit_machine_learning.algorithms import QSVC\n",
    "\n",
    "# Define the quantum feature map\n",
    "feature_map = ZZFeatureMap(feature_dimension=ds.num_features, reps=2)\n",
    "\n",
    "# Define the quantum circuit for the kernel\n",
    "ansatz = TwoLocal(num_qubits=ds.num_features, rotation_blocks=['ry'], entanglement_blocks='cz', reps=1)\n",
    "\n",
    "\n",
    "# Define the quantum instance to run the circuit on a simulator\n",
    "qi = QuantumInstance(backend=BasicAer.get_backend('statevector_simulator'),\n",
    "                     shots=1024,\n",
    "                     seed_simulator=0,\n",
    "                     seed_transpiler=0)\n",
    "optimizer = SPSA()"
   ]
  },
  {
   "cell_type": "code",
   "execution_count": 10,
   "id": "60b3cfb0",
   "metadata": {},
   "outputs": [],
   "source": [
    "#import numpy as np from qiskit import QuantumCircuit qc = QuantumCircuit(feature_map._num_qubits) qc.compose(feature_map, inplace=True) qc.compose(ansatz, inplace=True)"
   ]
  },
  {
   "cell_type": "code",
   "execution_count": 11,
   "id": "4d068d06",
   "metadata": {},
   "outputs": [],
   "source": [
    "#qc.draw('mpl')"
   ]
  },
  {
   "cell_type": "code",
   "execution_count": 12,
   "id": "bf6e0d20",
   "metadata": {},
   "outputs": [],
   "source": [
    "# Define VQC instance with SVM classifier and COBYLA optimizer\n",
    "vqc_estimator = VQC(feature_map=feature_map, ansatz=ansatz, loss=\"cross_entropy\", optimizer=optimizer, quantum_instance = qi)\n",
    "vqc_estimator = CClassifierSVM(C=0.1)"
   ]
  },
  {
   "cell_type": "code",
   "execution_count": 13,
   "id": "52531680",
   "metadata": {},
   "outputs": [],
   "source": [
    "# create a quantum support vector classifier (QSVC) and train it\n"
   ]
  },
  {
   "cell_type": "code",
   "execution_count": 14,
   "id": "063dcdca",
   "metadata": {},
   "outputs": [],
   "source": [
    "clf = vqc_estimator"
   ]
  },
  {
   "cell_type": "code",
   "execution_count": 15,
   "id": "79916b8e",
   "metadata": {
    "scrolled": true
   },
   "outputs": [
    {
     "name": "stdout",
     "output_type": "stream",
     "text": [
      "Training started...\n",
      "Training completed!\n"
     ]
    }
   ],
   "source": [
    "print(\"Training started...\")\n",
    "clf.fit(tr.X, tr.Y)#clf.fit(tr.X, tr.Y)\n",
    "print(\"Training completed!\")"
   ]
  },
  {
   "cell_type": "code",
   "execution_count": 16,
   "id": "4491b41a",
   "metadata": {},
   "outputs": [
    {
     "name": "stdout",
     "output_type": "stream",
     "text": [
      "Detection rate @ 2% FPR: 92.91%\n",
      "F1 score: 85.18%\n"
     ]
    }
   ],
   "source": [
    "# Classification of test set and computation of performance metrics\n",
    "y_pred, score_pred = clf.predict(ts.X, return_decision_function=True)\n",
    "\n",
    "from secml.ml.peval.metrics import CMetricTPRatFPR, CMetricF1, CRoc\n",
    "\n",
    "fpr_th = 0.02  # 2% False Positive Rate\n",
    "\n",
    "dr = CMetricTPRatFPR(fpr=fpr_th).performance_score(y_true=ts.Y, score=score_pred[:, 1].ravel())\n",
    "print(\"Detection rate @ 2% FPR: {:.2%}\".format(dr))\n",
    "\n",
    "f1 = CMetricF1().performance_score(y_true=ts.Y, y_pred=y_pred)\n",
    "print(\"F1 score: {:.2%}\".format(f1))"
   ]
  },
  {
   "cell_type": "code",
   "execution_count": 17,
   "id": "6daf8a73",
   "metadata": {},
   "outputs": [
    {
     "data": {
      "image/png": "[encoded data removed]",
      "text/plain": [
       "<Figure size 600x400 with 1 Axes>"
      ]
     },
     "metadata": {},
     "output_type": "display_data"
    }
   ],
   "source": [
    "fpr, tpr, _ = CRoc().compute(y_true=ts.Y, score=score_pred[:, 1].ravel())\n",
    "\n",
    "from secml.figure import CFigure\n",
    "# Only required for visualization in notebooks\n",
    "%matplotlib inline\n",
    "\n",
    "fig = CFigure(height=4, width=6)\n",
    "fig.sp.plot_roc(fpr, tpr)\n",
    "fig.sp._sp.axvline(x=2,  c='k', linestyle='--', zorder=-1)\n",
    "fig.sp.xlim(0.5, 20)\n",
    "fig.sp.ylim(90, 98)\n",
    "fig.sp.yticks([90, 92, 94, 96, 98])\n",
    "fig.sp.yticklabels([90, 92, 94, 96, 98])\n",
    "fig.sp.ylabel(r'Detection Rate $(\\%)$')"
   ]
  },
  {
   "cell_type": "markdown",
   "id": "10662f54",
   "metadata": {},
   "source": [
    "# Explaining the decisions"
   ]
  },
  {
   "cell_type": "markdown",
   "id": "29af8537",
   "metadata": {},
   "source": [
    "In this section of the tutorial, we compute the post-hoc explanations for the trained Android malware detector by analyzing the trained model to understand which components of the applications are more relevant during the decision (classification) phase.\n",
    "\n",
    "We use the **Gradient * Input** gradient-based explanation method, which is implemented by the `CExplainerGradientInput` class. Our algorithm is optimized to run on sparse data, which makes it suitable to be used in this application example.\n",
    "\n",
    "For each sample, one benign and one malicious, we compute the explanations with respect to the positive (malicious) class and list the top-10 influential features, along with the corresponding relevance (%).\n"
   ]
  },
  {
   "cell_type": "code",
   "execution_count": 18,
   "id": "4fc29156",
   "metadata": {},
   "outputs": [
    {
     "name": "stdout",
     "output_type": "stream",
     "text": [
      "Computing explanations using 'CExplainerGradientInput'\n"
     ]
    }
   ],
   "source": [
    "from secml.explanation import CExplainerGradientInput\n",
    "\n",
    "expl = CExplainerGradientInput(clf)\n",
    "\n",
    "print(\"Computing explanations using '{:}'\".format(expl.__class__.__name__))"
   ]
  },
  {
   "cell_type": "code",
   "execution_count": 19,
   "id": "41334fd3",
   "metadata": {},
   "outputs": [
    {
     "name": "stdout",
     "output_type": "stream",
     "text": [
      "Explanations for sample 137 (true class: 0)\n",
      "-14.06\treq_permissions::android.permission.CALL_PHONE\n",
      " -9.66\tused_permissions::ACCESS_NETWORK_STATE\n",
      " -7.29\tapi_calls::android/location/LocationManager;->getLastKnownLocation\n",
      "  6.68\treq_permissions::android.permission.WRITE_EXTERNAL_STORAGE\n",
      "  5.75\turls::www.gstatic.com\n",
      " -5.45\tintent_filters::android.intent.category.LAUNCHER\n",
      "  4.78\treq_permissions::android.permission.ACCESS_WIFI_STATE\n",
      " -4.03\turls::http://sites.google.com/site/gson/gson-user-guide\n",
      " -3.89\turls::schemas.android.com\n",
      " -3.80\tused_permissions::WAKE_LOCK\n"
     ]
    }
   ],
   "source": [
    "# Explanations for a benign sample\n",
    "i = 137\n",
    "x, y = ts[i, :].X, ts[i, :].Y\n",
    "\n",
    "print(\"Explanations for sample {:} (true class: {:})\".format(i, y.item()))\n",
    "\n",
    "attr = expl.explain(x, y=1)\n",
    "attr = attr / attr.norm(order=1)  # To display values in 0-100\n",
    "\n",
    "attr_argsort = abs(attr).argsort().ravel()[::-1]\n",
    "\n",
    "n_plot = 10\n",
    "\n",
    "for i in attr_argsort[:10]:\n",
    "    print(\"{:6.2f}\\t{:}\".format(attr[i].item() * 100, ds.header.feat_desc[i]))"
   ]
  },
  {
   "cell_type": "markdown",
   "id": "7cb3b563",
   "metadata": {},
   "source": [
    "Looking at the first sample, a benign application, we can observe how the majority of the features have a negative relevance towards the decision, meaning that, for this classifier, are an indication of a benign behavior.\n",
    "\n",
    "Regarding the second sample, a malicious application, we can observe the opposite, as the majority of the features have a positive relevance value, meaning that, for this classifier, are an indication of a malicious behavior.\n",
    "\n",
    "We also observe that more than **~50%** of the relevance is assigned to only **10 features** in both cases. This highlights a known behavior of these classifiers, which tend to assign most of the weight to a small set of features, making them vulnerable to adversarial evasion attacks."
   ]
  },
  {
   "cell_type": "markdown",
   "id": "5528cc67",
   "metadata": {},
   "source": [
    "# Crafting Adversarial Examples"
   ]
  },
  {
   "cell_type": "markdown",
   "id": "bd964112",
   "metadata": {},
   "source": [
    "We now set up a gradient-based maximum-confidence evasion attack to create adversarial examples against the SVM classifier on which the Android malware detector is based on.\n",
    "\n",
    "Firstly, we choose the solver parameters. As we are working with boolean features (each can take either 0 or 1 value), we use a line search grid step `eta` of 1. Then, we choose `l1` as the distance, in order to perform a L1-order sparse attack, were only one feature is changed (from 0 to 1 or vice-versa) at each iteration. Finally, as we only want malicious samples to be classified as benign, we set `y_target` = 0 to perform a targeted attack.\n",
    "\n",
    "The lower and the upper bound constraints are critical in this application. To create malware able to fool a classifier, an attacker may, in theory, both adding and removing features from the original applications. However, in practice, feature removal is a non-trivial operation that can easily compromise the malicious functionalities of the application and, generally speaking, only be performed for `not-manifest` components. Feature addition is a safer operation, especially when the injected features belong to the manifest; for example, adding permissions does not influence any existing application functionality.\n",
    "\n",
    "Therefore, in this example, to only alow feature addition we set `lb = 'x0'` and `ub = 1`. To also allow feature removal, one can set `lb = 0`."
   ]
  },
  {
   "cell_type": "code",
   "execution_count": 20,
   "id": "1796b0cf",
   "metadata": {},
   "outputs": [],
   "source": [
    "# Attack parameters\n",
    "params = {\n",
    "    \"classifier\": clf,\n",
    "    \"distance\": 'l1',\n",
    "    \"double_init\": False,\n",
    "    \"lb\": 'x0',\n",
    "    \"ub\": 1,\n",
    "    \"attack_classes\": 'all',\n",
    "    \"y_target\": 0,\n",
    "    \"solver_params\": {'eta': 1, 'eta_min': 1, 'eta_max': None, 'eps': 1e-4}\n",
    "}\n",
    "\n",
    "from secml.adv.attacks.evasion import CAttackEvasionPGDLS\n",
    "\n",
    "evasion = CAttackEvasionPGDLS(**params)"
   ]
  },
  {
   "cell_type": "markdown",
   "id": "ae1dd051",
   "metadata": {},
   "source": [
    "# Security Evaluation"
   ]
  },
  {
   "cell_type": "markdown",
   "id": "3f96d1a2",
   "metadata": {},
   "source": [
    "To evaluate the robustness of the Android malware detector against increasing number of modified (added) features, SecML provides a way to easily produce a **Security Evaluation Curve, by means of the** `CSecEval class`.\n",
    "\n",
    "The `CSecEval` instance will run the evasion attack on the classifier using increasing values of the L1-order perturbation `eps`.\n",
    "\n",
    "This process should last **around 60 seconds**, despite working on over 1 million features, using the `CAttackEvasionPGDLS` attack, as it is optimized to run on sparse data."
   ]
  },
  {
   "cell_type": "code",
   "execution_count": 21,
   "id": "62d91c03",
   "metadata": {},
   "outputs": [
    {
     "name": "stdout",
     "output_type": "stream",
     "text": [
      "Running security evaluation...\n",
      "Security evaluation completed!\n"
     ]
    }
   ],
   "source": [
    "n_mal = 10\n",
    "\n",
    "# Attack DS\n",
    "mal_idx = ts.Y.find(ts.Y == 1)[:n_mal]\n",
    "adv_ds = ts[mal_idx, :]\n",
    "\n",
    "# Security evaluation parameters\n",
    "param_name = 'dmax'  # This is the `eps` parameter\n",
    "dmax_start = 0\n",
    "dmax = 28\n",
    "dmax_step = 4\n",
    "\n",
    "from secml.array import CArray\n",
    "\n",
    "param_values = CArray.arange(\n",
    "    start=dmax_start, step=dmax_step, stop=dmax + dmax_step)\n",
    "\n",
    "from secml.adv.seceval import CSecEval\n",
    "\n",
    "sec_eval = CSecEval(\n",
    "    attack=evasion,\n",
    "    param_name=param_name,\n",
    "    param_values=param_values)\n",
    "\n",
    "print(\"Running security evaluation...\")\n",
    "sec_eval.run_sec_eval(adv_ds)\n",
    "print(\"Security evaluation completed!\")"
   ]
  },
  {
   "cell_type": "code",
   "execution_count": 22,
   "id": "5527b37e",
   "metadata": {},
   "outputs": [
    {
     "data": {
      "image/png": "[encoded data removed]",
      "text/plain": [
       "<Figure size 500x500 with 1 Axes>"
      ]
     },
     "metadata": {},
     "output_type": "display_data"
    }
   ],
   "source": [
    "from secml.figure import CFigure\n",
    "fig = CFigure(height=5, width=5)\n",
    "\n",
    "from secml.ml.peval.metrics import CMetricTHatFPR, CMetricTPRatTH\n",
    "\n",
    "# Get the ROC threshold at which Detection Rate should be computed\n",
    "th = CMetricTHatFPR(fpr=fpr_th).performance_score(y_true=ts.Y, score=score_pred[:, 1].ravel())\n",
    "\n",
    "# Convenience function for plotting the Security Evaluation Curve\n",
    "fig.sp.plot_sec_eval(sec_eval.sec_eval_data, metric=CMetricTPRatTH(th=th),\n",
    "                     percentage=True, label='SVM', color='green', marker='o')\n",
    "fig.sp.ylabel(r'Detection Rate $(\\%)$')\n",
    "fig.sp.xlabel(r\"$\\varepsilon$\")"
   ]
  },
  {
   "cell_type": "markdown",
   "id": "a8eadf4a",
   "metadata": {},
   "source": [
    "We can see how this malware detector based on the SVM classifier is vulnerable to adversarial attacks and after changing less than 10 features half of the malicious samples are incorrectly classified as benign applications. This known vulnerability has also been **highlighted** when we listed the top influential features and observed that most of the relevance is given to a very limited set of features."
   ]
  },
  {
   "cell_type": "code",
   "execution_count": 23,
   "id": "c5e14e2e",
   "metadata": {},
   "outputs": [],
   "source": [
    "end_time = time.time()"
   ]
  },
  {
   "cell_type": "code",
   "execution_count": 24,
   "id": "e0ee657b",
   "metadata": {},
   "outputs": [
    {
     "name": "stdout",
     "output_type": "stream",
     "text": [
      "Computation time: 42.05 seconds\n"
     ]
    }
   ],
   "source": [
    "computation_time = end_time - start_time\n",
    "\n",
    "print(\"Computation time: {:.2f} seconds\".format(computation_time))"
   ]
  },
  {
   "cell_type": "code",
   "execution_count": null,
   "id": "32f6c12a",
   "metadata": {},
   "outputs": [],
   "source": []
  }
 ],
 "metadata": {
  "kernelspec": {
   "display_name": "Python 3 (ipykernel)",
   "language": "python",
   "name": "python3"
  },
  "language_info": {
   "codemirror_mode": {
    "name": "ipython",
    "version": 3
   },
   "file_extension": ".py",
   "mimetype": "text/x-python",
   "name": "python",
   "nbconvert_exporter": "python",
   "pygments_lexer": "ipython3",
   "version": "3.8.15"
  }
 },
 "nbformat": 4,
 "nbformat_minor": 5
}
